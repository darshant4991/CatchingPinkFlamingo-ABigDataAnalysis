{
  "nbformat": 4,
  "nbformat_minor": 0,
  "metadata": {
    "colab": {
      "name": "ClusteringFinal.ipynb",
      "provenance": [],
      "collapsed_sections": []
    },
    "kernelspec": {
      "name": "python3",
      "display_name": "Python 3"
    },
    "language_info": {
      "name": "python"
    }
  },
  "cells": [
    {
      "cell_type": "code",
      "execution_count": null,
      "metadata": {
        "colab": {
          "base_uri": "https://localhost:8080/"
        },
        "id": "Cw5tSPwoIHcX",
        "outputId": "1fd865b4-07de-49ce-c7f1-7c20a837eaf4"
      },
      "outputs": [
        {
          "output_type": "stream",
          "name": "stdout",
          "text": [
            "Reading package lists... Done\n",
            "Building dependency tree       \n",
            "Reading state information... Done\n",
            "The following package was automatically installed and is no longer required:\n",
            "  libnvidia-common-460\n",
            "Use 'apt autoremove' to remove it.\n",
            "The following additional packages will be installed:\n",
            "  openjdk-8-jre-headless\n",
            "Suggested packages:\n",
            "  openjdk-8-demo openjdk-8-source libnss-mdns fonts-dejavu-extra\n",
            "  fonts-ipafont-gothic fonts-ipafont-mincho fonts-wqy-microhei\n",
            "  fonts-wqy-zenhei fonts-indic\n",
            "The following NEW packages will be installed:\n",
            "  openjdk-8-jdk-headless openjdk-8-jre-headless\n",
            "0 upgraded, 2 newly installed, 0 to remove and 42 not upgraded.\n",
            "Need to get 36.5 MB of archives.\n",
            "After this operation, 143 MB of additional disk space will be used.\n",
            "Get:1 http://archive.ubuntu.com/ubuntu bionic-updates/universe amd64 openjdk-8-jre-headless amd64 8u312-b07-0ubuntu1~18.04 [28.2 MB]\n",
            "Get:2 http://archive.ubuntu.com/ubuntu bionic-updates/universe amd64 openjdk-8-jdk-headless amd64 8u312-b07-0ubuntu1~18.04 [8,298 kB]\n",
            "Fetched 36.5 MB in 2s (17.4 MB/s)\n",
            "Selecting previously unselected package openjdk-8-jre-headless:amd64.\n",
            "(Reading database ... 155629 files and directories currently installed.)\n",
            "Preparing to unpack .../openjdk-8-jre-headless_8u312-b07-0ubuntu1~18.04_amd64.deb ...\n",
            "Unpacking openjdk-8-jre-headless:amd64 (8u312-b07-0ubuntu1~18.04) ...\n",
            "Selecting previously unselected package openjdk-8-jdk-headless:amd64.\n",
            "Preparing to unpack .../openjdk-8-jdk-headless_8u312-b07-0ubuntu1~18.04_amd64.deb ...\n",
            "Unpacking openjdk-8-jdk-headless:amd64 (8u312-b07-0ubuntu1~18.04) ...\n",
            "Setting up openjdk-8-jre-headless:amd64 (8u312-b07-0ubuntu1~18.04) ...\n",
            "update-alternatives: using /usr/lib/jvm/java-8-openjdk-amd64/jre/bin/orbd to provide /usr/bin/orbd (orbd) in auto mode\n",
            "update-alternatives: using /usr/lib/jvm/java-8-openjdk-amd64/jre/bin/servertool to provide /usr/bin/servertool (servertool) in auto mode\n",
            "update-alternatives: using /usr/lib/jvm/java-8-openjdk-amd64/jre/bin/tnameserv to provide /usr/bin/tnameserv (tnameserv) in auto mode\n",
            "Setting up openjdk-8-jdk-headless:amd64 (8u312-b07-0ubuntu1~18.04) ...\n",
            "update-alternatives: using /usr/lib/jvm/java-8-openjdk-amd64/bin/idlj to provide /usr/bin/idlj (idlj) in auto mode\n",
            "update-alternatives: using /usr/lib/jvm/java-8-openjdk-amd64/bin/wsimport to provide /usr/bin/wsimport (wsimport) in auto mode\n",
            "update-alternatives: using /usr/lib/jvm/java-8-openjdk-amd64/bin/jsadebugd to provide /usr/bin/jsadebugd (jsadebugd) in auto mode\n",
            "update-alternatives: using /usr/lib/jvm/java-8-openjdk-amd64/bin/native2ascii to provide /usr/bin/native2ascii (native2ascii) in auto mode\n",
            "update-alternatives: using /usr/lib/jvm/java-8-openjdk-amd64/bin/javah to provide /usr/bin/javah (javah) in auto mode\n",
            "update-alternatives: using /usr/lib/jvm/java-8-openjdk-amd64/bin/hsdb to provide /usr/bin/hsdb (hsdb) in auto mode\n",
            "update-alternatives: using /usr/lib/jvm/java-8-openjdk-amd64/bin/clhsdb to provide /usr/bin/clhsdb (clhsdb) in auto mode\n",
            "update-alternatives: using /usr/lib/jvm/java-8-openjdk-amd64/bin/xjc to provide /usr/bin/xjc (xjc) in auto mode\n",
            "update-alternatives: using /usr/lib/jvm/java-8-openjdk-amd64/bin/schemagen to provide /usr/bin/schemagen (schemagen) in auto mode\n",
            "update-alternatives: using /usr/lib/jvm/java-8-openjdk-amd64/bin/extcheck to provide /usr/bin/extcheck (extcheck) in auto mode\n",
            "update-alternatives: using /usr/lib/jvm/java-8-openjdk-amd64/bin/jhat to provide /usr/bin/jhat (jhat) in auto mode\n",
            "update-alternatives: using /usr/lib/jvm/java-8-openjdk-amd64/bin/wsgen to provide /usr/bin/wsgen (wsgen) in auto mode\n"
          ]
        }
      ],
      "source": [
        "!apt-get install openjdk-8-jdk-headless"
      ]
    },
    {
      "cell_type": "code",
      "source": [
        "!wget https://archive.apache.org/dist/spark/spark-3.2.1/spark-3.2.1-bin-hadoop2.7.tgz"
      ],
      "metadata": {
        "colab": {
          "base_uri": "https://localhost:8080/"
        },
        "id": "vIihpclNIOfD",
        "outputId": "a94af24c-1952-448e-f2e5-5f71577b46f8"
      },
      "execution_count": null,
      "outputs": [
        {
          "output_type": "stream",
          "name": "stdout",
          "text": [
            "--2022-05-19 02:41:39--  https://archive.apache.org/dist/spark/spark-3.2.1/spark-3.2.1-bin-hadoop2.7.tgz\n",
            "Resolving archive.apache.org (archive.apache.org)... 138.201.131.134, 2a01:4f8:172:2ec5::2\n",
            "Connecting to archive.apache.org (archive.apache.org)|138.201.131.134|:443... connected.\n",
            "HTTP request sent, awaiting response... 200 OK\n",
            "Length: 272637746 (260M) [application/x-gzip]\n",
            "Saving to: ‘spark-3.2.1-bin-hadoop2.7.tgz’\n",
            "\n",
            "spark-3.2.1-bin-had 100%[===================>] 260.01M  26.6MB/s    in 10s     \n",
            "\n",
            "2022-05-19 02:41:50 (25.7 MB/s) - ‘spark-3.2.1-bin-hadoop2.7.tgz’ saved [272637746/272637746]\n",
            "\n"
          ]
        }
      ]
    },
    {
      "cell_type": "code",
      "source": [
        "!tar xf /content/spark-3.2.1-bin-hadoop2.7.tgz"
      ],
      "metadata": {
        "id": "UcnL2hunITbY"
      },
      "execution_count": null,
      "outputs": []
    },
    {
      "cell_type": "code",
      "source": [
        "!pip install -q findspark"
      ],
      "metadata": {
        "id": "_QHl810OIVOV"
      },
      "execution_count": null,
      "outputs": []
    },
    {
      "cell_type": "code",
      "source": [
        "import os\n",
        "os.environ[\"JAVA_HOME\"] = \"/usr/lib/jvm/java-8-openjdk-amd64\"\n",
        "os.environ[\"SPARK_HOME\"] = \"/content/spark-3.2.1-bin-hadoop2.7\""
      ],
      "metadata": {
        "id": "H0_65yBBIXVt"
      },
      "execution_count": null,
      "outputs": []
    },
    {
      "cell_type": "code",
      "source": [
        "import findspark\n",
        "findspark.init()\n",
        "findspark.find()"
      ],
      "metadata": {
        "colab": {
          "base_uri": "https://localhost:8080/",
          "height": 36
        },
        "id": "EG58DtN3IcWK",
        "outputId": "fc0dc121-47b6-448d-da69-c0b31738b131"
      },
      "execution_count": null,
      "outputs": [
        {
          "output_type": "execute_result",
          "data": {
            "text/plain": [
              "'/content/spark-3.2.1-bin-hadoop2.7'"
            ],
            "application/vnd.google.colaboratory.intrinsic+json": {
              "type": "string"
            }
          },
          "metadata": {},
          "execution_count": 7
        }
      ]
    },
    {
      "cell_type": "code",
      "source": [
        "import pyspark\n",
        "import numpy as np\n",
        "import pandas as pd"
      ],
      "metadata": {
        "id": "cD5gJAVGIe5u"
      },
      "execution_count": null,
      "outputs": []
    },
    {
      "cell_type": "code",
      "source": [
        "from pyspark.sql import SparkSession\n",
        "spark = SparkSession.builder.master('local[*]').appName('Customer_Segmants').getOrCreate()\n",
        "# Read data from CSV file\n",
        "team_df=spark.read.csv('TeamClicks.csv', header=True, inferSchema=True)\n",
        "team_df.show(5)"
      ],
      "metadata": {
        "colab": {
          "base_uri": "https://localhost:8080/"
        },
        "id": "I3iNclAqInAy",
        "outputId": "df5c2291-2d0d-4c18-84e2-0f37757948ee"
      },
      "execution_count": null,
      "outputs": [
        {
          "output_type": "stream",
          "name": "stdout",
          "text": [
            "+------+------------+-------------+\n",
            "|teamId|adClickCount|buyClickCount|\n",
            "+------+------------+-------------+\n",
            "|     2|         168|           29|\n",
            "|     8|         218|           32|\n",
            "|     9|         427|           98|\n",
            "|    11|         309|           64|\n",
            "|    13|         301|           55|\n",
            "+------+------------+-------------+\n",
            "only showing top 5 rows\n",
            "\n"
          ]
        }
      ]
    },
    {
      "cell_type": "code",
      "source": [
        "team_df.printSchema()"
      ],
      "metadata": {
        "colab": {
          "base_uri": "https://localhost:8080/"
        },
        "id": "vRAxmbaoIzbZ",
        "outputId": "4dae78ac-65ed-4874-94db-6a16dd769b96"
      },
      "execution_count": null,
      "outputs": [
        {
          "output_type": "stream",
          "name": "stdout",
          "text": [
            "root\n",
            " |-- teamId: integer (nullable = true)\n",
            " |-- adClickCount: integer (nullable = true)\n",
            " |-- buyClickCount: integer (nullable = true)\n",
            "\n"
          ]
        }
      ]
    },
    {
      "cell_type": "code",
      "source": [
        "from pyspark.sql.functions import col\n",
        "from pyspark.sql.types import StringType,BooleanType,DateType,IntegerType\n",
        "team_df = team_df.withColumn(\"teamId\",col(\"teamId\").cast(StringType())) \\\n",
        "    .withColumn(\"adClickCount\",col(\"adClickCount\").cast(IntegerType())) \\\n",
        "    .withColumn(\"buyClickCount\",col(\"buyClickCount\").cast(IntegerType()))\n",
        "team_df.printSchema()"
      ],
      "metadata": {
        "colab": {
          "base_uri": "https://localhost:8080/"
        },
        "id": "x74q88sTI8VA",
        "outputId": "c1dd33b8-d8d4-47ff-986b-32ff06b17047"
      },
      "execution_count": null,
      "outputs": [
        {
          "output_type": "stream",
          "name": "stdout",
          "text": [
            "root\n",
            " |-- teamId: string (nullable = true)\n",
            " |-- adClickCount: integer (nullable = true)\n",
            " |-- buyClickCount: integer (nullable = true)\n",
            "\n"
          ]
        }
      ]
    },
    {
      "cell_type": "code",
      "source": [
        "team_df=team_df.na.drop()"
      ],
      "metadata": {
        "id": "GEypYlRjJEnr"
      },
      "execution_count": null,
      "outputs": []
    },
    {
      "cell_type": "code",
      "source": [
        "from pyspark.ml.feature import VectorAssembler\n",
        "team_df.columns\n",
        "assemble=VectorAssembler(inputCols=[\n",
        " 'adClickCount', 'buyClickCount'], outputCol='features')\n",
        "assembled_data=assemble.transform(team_df)\n",
        "assembled_data.show(2)"
      ],
      "metadata": {
        "colab": {
          "base_uri": "https://localhost:8080/"
        },
        "id": "u7TyjLYHJIK4",
        "outputId": "5a207f3d-75e4-48f1-9d4e-18aec93baed6"
      },
      "execution_count": null,
      "outputs": [
        {
          "output_type": "stream",
          "name": "stdout",
          "text": [
            "+------+------------+-------------+------------+\n",
            "|teamId|adClickCount|buyClickCount|    features|\n",
            "+------+------------+-------------+------------+\n",
            "|     2|         168|           29|[168.0,29.0]|\n",
            "|     8|         218|           32|[218.0,32.0]|\n",
            "+------+------------+-------------+------------+\n",
            "only showing top 2 rows\n",
            "\n"
          ]
        }
      ]
    },
    {
      "cell_type": "code",
      "source": [
        "from pyspark.ml.feature import StandardScaler\n",
        "scale=StandardScaler(inputCol='features',outputCol='standardized')\n",
        "data_scale=scale.fit(assembled_data)\n",
        "data_scale_output=data_scale.transform(assembled_data)\n",
        "data_scale_output.show(5)"
      ],
      "metadata": {
        "colab": {
          "base_uri": "https://localhost:8080/"
        },
        "id": "XRO3IWQTJo2Y",
        "outputId": "1c239089-b255-478e-fdf1-e693fc3c1010"
      },
      "execution_count": null,
      "outputs": [
        {
          "output_type": "stream",
          "name": "stdout",
          "text": [
            "+------+------------+-------------+------------+--------------------+\n",
            "|teamId|adClickCount|buyClickCount|    features|        standardized|\n",
            "+------+------------+-------------+------------+--------------------+\n",
            "|     2|         168|           29|[168.0,29.0]|[1.12722539156150...|\n",
            "|     8|         218|           32|[218.0,32.0]|[1.46270913905004...|\n",
            "|     9|         427|           98|[427.0,98.0]|[2.86503120355214...|\n",
            "|    11|         309|           64|[309.0,64.0]|[2.07328955947918...|\n",
            "|    13|         301|           55|[301.0,55.0]|[2.01961215988102...|\n",
            "+------+------------+-------------+------------+--------------------+\n",
            "only showing top 5 rows\n",
            "\n"
          ]
        }
      ]
    },
    {
      "cell_type": "code",
      "source": [
        "from pyspark.ml.clustering import KMeans\n",
        "from pyspark.ml.evaluation import ClusteringEvaluator\n",
        "silhouette_score=[]\n",
        "evaluator = ClusteringEvaluator(predictionCol='prediction', featuresCol='standardized', \\\n",
        "                                metricName='silhouette', distanceMeasure='squaredEuclidean')\n",
        "for i in range(2,10):\n",
        "    KMeans_algo=KMeans(featuresCol='standardized', k=i)\n",
        "    KMeans_fit=KMeans_algo.fit(data_scale_output)\n",
        "    output=KMeans_fit.transform(data_scale_output)\n",
        "    score=evaluator.evaluate(output)\n",
        "    silhouette_score.append(score)\n",
        "    #print(\"Silhouette Score:\",score)\n",
        "    print(f\"Silhouette Score for {i} clusters:\",round(score, 2))"
      ],
      "metadata": {
        "colab": {
          "base_uri": "https://localhost:8080/"
        },
        "id": "J_f9CvczJxvG",
        "outputId": "89b92052-4578-4d72-b666-24159a595b7b"
      },
      "execution_count": null,
      "outputs": [
        {
          "output_type": "stream",
          "name": "stdout",
          "text": [
            "Silhouette Score for 2 clusters: 0.85\n",
            "Silhouette Score for 3 clusters: 0.78\n",
            "Silhouette Score for 4 clusters: 0.76\n",
            "Silhouette Score for 5 clusters: 0.72\n",
            "Silhouette Score for 6 clusters: 0.74\n",
            "Silhouette Score for 7 clusters: 0.71\n",
            "Silhouette Score for 8 clusters: 0.63\n",
            "Silhouette Score for 9 clusters: 0.66\n"
          ]
        }
      ]
    },
    {
      "cell_type": "code",
      "source": [
        "#Visualizing the silhouette scores in a plot\n",
        "import matplotlib.pyplot as plt\n",
        "fig, ax = plt.subplots(1,1, figsize =(8,6))\n",
        "ax.plot(range(2,10),silhouette_score)\n",
        "ax.set_xlabel('k')\n",
        "ax.set_ylabel('cost')"
      ],
      "metadata": {
        "colab": {
          "base_uri": "https://localhost:8080/",
          "height": 406
        },
        "id": "-XMxpjKzJz99",
        "outputId": "ed69dc86-3ee2-4917-ed9d-31a73153356c"
      },
      "execution_count": null,
      "outputs": [
        {
          "output_type": "execute_result",
          "data": {
            "text/plain": [
              "Text(0, 0.5, 'cost')"
            ]
          },
          "metadata": {},
          "execution_count": 16
        },
        {
          "output_type": "display_data",
          "data": {
            "text/plain": [
              "<Figure size 576x432 with 1 Axes>"
            ],
            "image/png": "[encoded data removed]"
          },
          "metadata": {
            "needs_background": "light"
          }
        }
      ]
    },
    {
      "cell_type": "code",
      "source": [
        "KMeans_=KMeans(featuresCol='features', k=2) \n",
        "KMeans_Model=KMeans_.fit(data_scale_output)\n",
        "KMeans_Assignments=KMeans_Model.transform(data_scale_output)\n",
        "\n",
        "centers = KMeans_Model.clusterCenters()\n",
        "centers\n",
        "\n",
        "KMeans_Assignments.show(10)"
      ],
      "metadata": {
        "colab": {
          "base_uri": "https://localhost:8080/"
        },
        "id": "IrTDMJmeKLts",
        "outputId": "88c8008f-b434-47c5-b5f9-4ae2ef277412"
      },
      "execution_count": null,
      "outputs": [
        {
          "output_type": "stream",
          "name": "stdout",
          "text": [
            "+------+------------+-------------+-------------+--------------------+----------+\n",
            "|teamId|adClickCount|buyClickCount|     features|        standardized|prediction|\n",
            "+------+------------+-------------+-------------+--------------------+----------+\n",
            "|     2|         168|           29| [168.0,29.0]|[1.12722539156150...|         0|\n",
            "|     8|         218|           32| [218.0,32.0]|[1.46270913905004...|         0|\n",
            "|     9|         427|           98| [427.0,98.0]|[2.86503120355214...|         1|\n",
            "|    11|         309|           64| [309.0,64.0]|[2.07328955947918...|         1|\n",
            "|    13|         301|           55| [301.0,55.0]|[2.01961215988102...|         1|\n",
            "|    18|         453|           78| [453.0,78.0]|[3.03948275224619...|         1|\n",
            "|    20|         300|           60| [300.0,60.0]|[2.01290248493125...|         1|\n",
            "|    22|         462|           86| [462.0,86.0]|[3.09986982679412...|         1|\n",
            "|    25|         210|           42| [210.0,42.0]|[1.40903173945187...|         0|\n",
            "|    27|         554|          101|[554.0,101.0]|[3.71715992217304...|         1|\n",
            "+------+------------+-------------+-------------+--------------------+----------+\n",
            "only showing top 10 rows\n",
            "\n"
          ]
        }
      ]
    },
    {
      "cell_type": "code",
      "source": [
        "\n",
        "from pyspark.ml.feature import PCA as PCAml\n",
        "pca = PCAml(k=2, inputCol=\"features\", outputCol=\"prediction\")\n",
        "pca_model = pca.fit(data_scale_output)\n",
        "pca_transformed = pca_model.transform(data_scale_output)\n"
      ],
      "metadata": {
        "id": "4dpY5QrsMHuj"
      },
      "execution_count": null,
      "outputs": []
    },
    {
      "cell_type": "code",
      "source": [
        "pca_transformed"
      ],
      "metadata": {
        "colab": {
          "base_uri": "https://localhost:8080/"
        },
        "id": "BPnoE0umvJP1",
        "outputId": "1d45e825-fa2d-45dc-c339-149cc172b7a9"
      },
      "execution_count": null,
      "outputs": [
        {
          "output_type": "execute_result",
          "data": {
            "text/plain": [
              "DataFrame[teamId: string, adClickCount: int, buyClickCount: int, features: vector, standardized: vector, prediction: vector]"
            ]
          },
          "metadata": {},
          "execution_count": 19
        }
      ]
    },
    {
      "cell_type": "code",
      "source": [
        "import numpy as np\n",
        "x_pca = np.array(pca_transformed.rdd.map(lambda row: row.prediction).collect())\n",
        "cluster_assignment = np.array(KMeans_Assignments.rdd.map(lambda row: row.prediction).collect()).reshape(-1,1)\n",
        "\n",
        "import seaborn as sns\n",
        "import matplotlib.pyplot as plt\n",
        "\n",
        "pca_data = np.hstack((x_pca,cluster_assignment))\n",
        "\n",
        "pca_df = pd.DataFrame(data=pca_data, columns=(\"1\",\"2\", \"cluster_assignment\"))\n",
        "sns.FacetGrid(pca_df,hue=\"cluster_assignment\", height=6).map(plt.scatter, '1', '2' ).add_legend()\n",
        "\n",
        "\n",
        "plt.show()"
      ],
      "metadata": {
        "colab": {
          "base_uri": "https://localhost:8080/",
          "height": 441
        },
        "id": "JbR0AN9xPycR",
        "outputId": "84d88914-84ea-4a05-a1da-e1b4b0853738"
      },
      "execution_count": null,
      "outputs": [
        {
          "output_type": "display_data",
          "data": {
            "text/plain": [
              "<Figure size 537.375x432 with 1 Axes>"
            ],
            "image/png": "[encoded data removed]"
          },
          "metadata": {
            "needs_background": "light"
          }
        }
      ]
    },
    {
      "cell_type": "code",
      "source": [
        "df9= pd.DataFrame(KMeans_Assignments.collect())\n",
        "df9.columns =['teamId', 'adClickCount', 'buyClickCount', 'features','standardized','prediction']\n",
        "import matplotlib.pyplot as plt\n",
        "\n",
        "groups = df9.groupby('prediction')\n",
        "for name, group in groups:\n",
        "    plt.plot(group.adClickCount, group.buyClickCount, marker='o', linestyle='', markersize=8, label=name)\n",
        "[plt.text(x=row['adClickCount'], y=row['buyClickCount'], s=row['teamId'],alpha=0.7,fontsize=9) for k,row in df9.iterrows()]\n",
        "plt.legend()"
      ],
      "metadata": {
        "id": "BtUchul3Hj9V"
      },
      "execution_count": null,
      "outputs": []
    }
  ]
}