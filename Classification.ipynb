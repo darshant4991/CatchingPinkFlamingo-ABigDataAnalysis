{
  "nbformat": 4,
  "nbformat_minor": 0,
  "metadata": {
    "colab": {
      "name": "Classification.ipynb",
      "provenance": [],
      "collapsed_sections": []
    },
    "kernelspec": {
      "name": "python3",
      "display_name": "Python 3"
    },
    "language_info": {
      "name": "python"
    }
  },
  "cells": [
    {
      "cell_type": "code",
      "execution_count": null,
      "metadata": {
        "colab": {
          "base_uri": "https://localhost:8080/"
        },
        "id": "E2kjsScGaoKa",
        "outputId": "f99b5e0d-4dff-432b-adc4-6d041e16bc74"
      },
      "outputs": [
        {
          "output_type": "stream",
          "name": "stdout",
          "text": [
            "Reading package lists... Done\n",
            "Building dependency tree       \n",
            "Reading state information... Done\n",
            "The following packages were automatically installed and are no longer required:\n",
            "  libnvidia-common-460 nsight-compute-2020.2.0\n",
            "Use 'apt autoremove' to remove them.\n",
            "The following additional packages will be installed:\n",
            "  openjdk-8-jre-headless\n",
            "Suggested packages:\n",
            "  openjdk-8-demo openjdk-8-source libnss-mdns fonts-dejavu-extra\n",
            "  fonts-ipafont-gothic fonts-ipafont-mincho fonts-wqy-microhei\n",
            "  fonts-wqy-zenhei fonts-indic\n",
            "The following NEW packages will be installed:\n",
            "  openjdk-8-jdk-headless openjdk-8-jre-headless\n",
            "0 upgraded, 2 newly installed, 0 to remove and 67 not upgraded.\n",
            "Need to get 36.5 MB of archives.\n",
            "After this operation, 143 MB of additional disk space will be used.\n",
            "Get:1 http://archive.ubuntu.com/ubuntu bionic-updates/universe amd64 openjdk-8-jre-headless amd64 8u312-b07-0ubuntu1~18.04 [28.2 MB]\n",
            "Get:2 http://archive.ubuntu.com/ubuntu bionic-updates/universe amd64 openjdk-8-jdk-headless amd64 8u312-b07-0ubuntu1~18.04 [8,298 kB]\n",
            "Fetched 36.5 MB in 2s (14.7 MB/s)\n",
            "Selecting previously unselected package openjdk-8-jre-headless:amd64.\n",
            "(Reading database ... 155203 files and directories currently installed.)\n",
            "Preparing to unpack .../openjdk-8-jre-headless_8u312-b07-0ubuntu1~18.04_amd64.deb ...\n",
            "Unpacking openjdk-8-jre-headless:amd64 (8u312-b07-0ubuntu1~18.04) ...\n",
            "Selecting previously unselected package openjdk-8-jdk-headless:amd64.\n",
            "Preparing to unpack .../openjdk-8-jdk-headless_8u312-b07-0ubuntu1~18.04_amd64.deb ...\n",
            "Unpacking openjdk-8-jdk-headless:amd64 (8u312-b07-0ubuntu1~18.04) ...\n",
            "Setting up openjdk-8-jre-headless:amd64 (8u312-b07-0ubuntu1~18.04) ...\n",
            "update-alternatives: using /usr/lib/jvm/java-8-openjdk-amd64/jre/bin/orbd to provide /usr/bin/orbd (orbd) in auto mode\n",
            "update-alternatives: using /usr/lib/jvm/java-8-openjdk-amd64/jre/bin/servertool to provide /usr/bin/servertool (servertool) in auto mode\n",
            "update-alternatives: using /usr/lib/jvm/java-8-openjdk-amd64/jre/bin/tnameserv to provide /usr/bin/tnameserv (tnameserv) in auto mode\n",
            "Setting up openjdk-8-jdk-headless:amd64 (8u312-b07-0ubuntu1~18.04) ...\n",
            "update-alternatives: using /usr/lib/jvm/java-8-openjdk-amd64/bin/idlj to provide /usr/bin/idlj (idlj) in auto mode\n",
            "update-alternatives: using /usr/lib/jvm/java-8-openjdk-amd64/bin/wsimport to provide /usr/bin/wsimport (wsimport) in auto mode\n",
            "update-alternatives: using /usr/lib/jvm/java-8-openjdk-amd64/bin/jsadebugd to provide /usr/bin/jsadebugd (jsadebugd) in auto mode\n",
            "update-alternatives: using /usr/lib/jvm/java-8-openjdk-amd64/bin/native2ascii to provide /usr/bin/native2ascii (native2ascii) in auto mode\n",
            "update-alternatives: using /usr/lib/jvm/java-8-openjdk-amd64/bin/javah to provide /usr/bin/javah (javah) in auto mode\n",
            "update-alternatives: using /usr/lib/jvm/java-8-openjdk-amd64/bin/hsdb to provide /usr/bin/hsdb (hsdb) in auto mode\n",
            "update-alternatives: using /usr/lib/jvm/java-8-openjdk-amd64/bin/clhsdb to provide /usr/bin/clhsdb (clhsdb) in auto mode\n",
            "update-alternatives: using /usr/lib/jvm/java-8-openjdk-amd64/bin/xjc to provide /usr/bin/xjc (xjc) in auto mode\n",
            "update-alternatives: using /usr/lib/jvm/java-8-openjdk-amd64/bin/schemagen to provide /usr/bin/schemagen (schemagen) in auto mode\n",
            "update-alternatives: using /usr/lib/jvm/java-8-openjdk-amd64/bin/extcheck to provide /usr/bin/extcheck (extcheck) in auto mode\n",
            "update-alternatives: using /usr/lib/jvm/java-8-openjdk-amd64/bin/jhat to provide /usr/bin/jhat (jhat) in auto mode\n",
            "update-alternatives: using /usr/lib/jvm/java-8-openjdk-amd64/bin/wsgen to provide /usr/bin/wsgen (wsgen) in auto mode\n"
          ]
        }
      ],
      "source": [
        "!apt-get install openjdk-8-jdk-headless"
      ]
    },
    {
      "cell_type": "code",
      "source": [
        "!wget https://archive.apache.org/dist/spark/spark-3.2.1/spark-3.2.1-bin-hadoop2.7.tgz"
      ],
      "metadata": {
        "colab": {
          "base_uri": "https://localhost:8080/"
        },
        "id": "hYMHIOuea0XT",
        "outputId": "8f0850a8-4221-4d5a-d430-fe80319bb00d"
      },
      "execution_count": null,
      "outputs": [
        {
          "output_type": "stream",
          "name": "stdout",
          "text": [
            "--2022-05-17 23:50:16--  https://archive.apache.org/dist/spark/spark-3.2.1/spark-3.2.1-bin-hadoop2.7.tgz\n",
            "Resolving archive.apache.org (archive.apache.org)... 138.201.131.134, 2a01:4f8:172:2ec5::2\n",
            "Connecting to archive.apache.org (archive.apache.org)|138.201.131.134|:443... connected.\n",
            "HTTP request sent, awaiting response... 200 OK\n",
            "Length: 272637746 (260M) [application/x-gzip]\n",
            "Saving to: ‘spark-3.2.1-bin-hadoop2.7.tgz’\n",
            "\n",
            "spark-3.2.1-bin-had 100%[===================>] 260.01M  26.0MB/s    in 11s     \n",
            "\n",
            "2022-05-17 23:50:27 (24.4 MB/s) - ‘spark-3.2.1-bin-hadoop2.7.tgz’ saved [272637746/272637746]\n",
            "\n"
          ]
        }
      ]
    },
    {
      "cell_type": "code",
      "source": [
        "!tar xf /content/spark-3.2.1-bin-hadoop2.7.tgz"
      ],
      "metadata": {
        "id": "tO_Rri6Ma8sz"
      },
      "execution_count": null,
      "outputs": []
    },
    {
      "cell_type": "code",
      "source": [
        "!pip install -q findspark"
      ],
      "metadata": {
        "id": "lNsqC3hMa-jf"
      },
      "execution_count": null,
      "outputs": []
    },
    {
      "cell_type": "code",
      "source": [
        "import os\n",
        "os.environ[\"JAVA_HOME\"] = \"/usr/lib/jvm/java-8-openjdk-amd64\"\n",
        "os.environ[\"SPARK_HOME\"] = \"/content/spark-3.2.1-bin-hadoop2.7\""
      ],
      "metadata": {
        "id": "Rj8g4RhTbBH_"
      },
      "execution_count": null,
      "outputs": []
    },
    {
      "cell_type": "code",
      "source": [
        "import findspark\n",
        "findspark.init()\n",
        "findspark.find()"
      ],
      "metadata": {
        "colab": {
          "base_uri": "https://localhost:8080/",
          "height": 36
        },
        "id": "9MiTnGq-bDY_",
        "outputId": "5eb1ed47-a3d7-43bd-e89d-21da347d4e53"
      },
      "execution_count": null,
      "outputs": [
        {
          "output_type": "execute_result",
          "data": {
            "text/plain": [
              "'/content/spark-3.2.1-bin-hadoop2.7'"
            ],
            "application/vnd.google.colaboratory.intrinsic+json": {
              "type": "string"
            }
          },
          "metadata": {},
          "execution_count": 6
        }
      ]
    },
    {
      "cell_type": "code",
      "source": [
        "import pyspark\n",
        "import numpy as np\n",
        "import pandas as pd"
      ],
      "metadata": {
        "id": "OSqHXwnhbEmj"
      },
      "execution_count": null,
      "outputs": []
    },
    {
      "cell_type": "code",
      "source": [
        "from pyspark.sql import SparkSession\n",
        "\n",
        "spark = SparkSession.builder.master('local[*]').appName('data').getOrCreate()\n",
        "data = spark.read.csv('Classification.csv', sep=',', header=True, inferSchema=True, nullValue='NA')\n",
        "data.show(5)"
      ],
      "metadata": {
        "colab": {
          "base_uri": "https://localhost:8080/"
        },
        "id": "AQGvQhracUI_",
        "outputId": "0785591b-7c0e-4ace-85cd-4a9282dfe078"
      },
      "execution_count": null,
      "outputs": [
        {
          "output_type": "stream",
          "name": "stdout",
          "text": [
            "+------+----------+-----------+------------+-----+----------------+\n",
            "|teamId|      name|   strength|currentLevel|price|strengthCategory|\n",
            "+------+----------+-----------+------------+-----+----------------+\n",
            "|    79|   O1uJX7C|0.774473575|           1|    0|            Weak|\n",
            "|    92|  WeLHp8HZ|0.171926026|           1|    0|            Weak|\n",
            "|     6|    mARlfz|0.537353044|           1|    0|            Weak|\n",
            "|     7|xO41jlAo0Y|0.394370371|           1|    0|            Weak|\n",
            "|    40|   vdwO0k1|0.706832959|           1|    0|            Weak|\n",
            "+------+----------+-----------+------------+-----+----------------+\n",
            "only showing top 5 rows\n",
            "\n"
          ]
        }
      ]
    },
    {
      "cell_type": "code",
      "source": [
        "data.show(10)"
      ],
      "metadata": {
        "colab": {
          "base_uri": "https://localhost:8080/"
        },
        "id": "GZ0mge-O8ZoO",
        "outputId": "96d0fdbb-6708-4aec-80b0-cefd077ad291"
      },
      "execution_count": null,
      "outputs": [
        {
          "output_type": "stream",
          "name": "stdout",
          "text": [
            "+------+----------+-----------+------------+-----+----------------+\n",
            "|teamId|      name|   strength|currentLevel|price|strengthCategory|\n",
            "+------+----------+-----------+------------+-----+----------------+\n",
            "|    79|   O1uJX7C|0.774473575|           1|    0|            Weak|\n",
            "|    92|  WeLHp8HZ|0.171926026|           1|    0|            Weak|\n",
            "|     6|    mARlfz|0.537353044|           1|    0|            Weak|\n",
            "|     7|xO41jlAo0Y|0.394370371|           1|    0|            Weak|\n",
            "|    40|   vdwO0k1|0.706832959|           1|    0|            Weak|\n",
            "|    18| VpF5Lrtz7|0.885469892|           1|  421|          Strong|\n",
            "|    91| 8brfgFZi6|0.478092156|           1|    0|            Weak|\n",
            "|    90| 0sicoF7Pl|0.443162419|           1|  388|          Strong|\n",
            "|    78|eGBdAiM6ti| 0.79692311|           1|  176|          Strong|\n",
            "|     1|Rlwjub4jqE|0.105268243|           1|    0|            Weak|\n",
            "+------+----------+-----------+------------+-----+----------------+\n",
            "only showing top 10 rows\n",
            "\n"
          ]
        }
      ]
    },
    {
      "cell_type": "code",
      "source": [
        "# Create 'label' column indicating whether team is Paymaster (1) or Saver(0)\n",
        "data = data.withColumn('label', (data.price >= 152).cast('integer'))\n",
        "#data['label'] = np.where(data['price']>= 152, 'Paymaster' , 'Saver ')\n",
        "data.show(5)"
      ],
      "metadata": {
        "colab": {
          "base_uri": "https://localhost:8080/"
        },
        "id": "qte-CNeOlnzR",
        "outputId": "3115cd1e-1a19-4d57-e677-2d20f1ff2c4d"
      },
      "execution_count": null,
      "outputs": [
        {
          "output_type": "stream",
          "name": "stdout",
          "text": [
            "+------+----------+-----------+------------+-----+----------------+-----+\n",
            "|teamId|      name|   strength|currentLevel|price|strengthCategory|label|\n",
            "+------+----------+-----------+------------+-----+----------------+-----+\n",
            "|    79|   O1uJX7C|0.774473575|           1|    0|            Weak|    0|\n",
            "|    92|  WeLHp8HZ|0.171926026|           1|    0|            Weak|    0|\n",
            "|     6|    mARlfz|0.537353044|           1|    0|            Weak|    0|\n",
            "|     7|xO41jlAo0Y|0.394370371|           1|    0|            Weak|    0|\n",
            "|    40|   vdwO0k1|0.706832959|           1|    0|            Weak|    0|\n",
            "+------+----------+-----------+------------+-----+----------------+-----+\n",
            "only showing top 5 rows\n",
            "\n"
          ]
        }
      ]
    },
    {
      "cell_type": "code",
      "source": [
        "from pyspark.ml.feature import StringIndexer\n"
      ],
      "metadata": {
        "id": "m3WV1n5KdFsq"
      },
      "execution_count": null,
      "outputs": []
    },
    {
      "cell_type": "code",
      "source": [
        "indexer = StringIndexer(inputCol='strengthCategory', outputCol='strengthCategory_idx')\n"
      ],
      "metadata": {
        "id": "L72_-9vWdHeZ"
      },
      "execution_count": null,
      "outputs": []
    },
    {
      "cell_type": "code",
      "source": [
        "indexer_model = indexer.fit(data)\n",
        "data_indexed = indexer_model.transform(data)"
      ],
      "metadata": {
        "id": "0jc04qHzdI5z"
      },
      "execution_count": null,
      "outputs": []
    },
    {
      "cell_type": "code",
      "source": [
        "from pyspark.ml.feature import VectorAssembler\n",
        "\n",
        "# Create an assembler object\n",
        "assembler = VectorAssembler(inputCols=[\n",
        "    'strengthCategory_idx', 'strength','currentLevel',], outputCol='features')"
      ],
      "metadata": {
        "id": "aOkMyY9pfuyD"
      },
      "execution_count": null,
      "outputs": []
    },
    {
      "cell_type": "code",
      "source": [
        "data_assembled = assembler.transform(data_indexed)"
      ],
      "metadata": {
        "id": "yK57jXhif76p"
      },
      "execution_count": null,
      "outputs": []
    },
    {
      "cell_type": "code",
      "source": [
        "data_assembled.select('features', 'price').show(10, truncate=False)"
      ],
      "metadata": {
        "colab": {
          "base_uri": "https://localhost:8080/"
        },
        "id": "XkXNlQ-Uf_2A",
        "outputId": "9f092377-e184-424d-d015-6b3e5efbe6d2"
      },
      "execution_count": null,
      "outputs": [
        {
          "output_type": "stream",
          "name": "stdout",
          "text": [
            "+---------------------+-----+\n",
            "|features             |price|\n",
            "+---------------------+-----+\n",
            "|[0.0,0.774473575,1.0]|0    |\n",
            "|[0.0,0.171926026,1.0]|0    |\n",
            "|[0.0,0.537353044,1.0]|0    |\n",
            "|[0.0,0.394370371,1.0]|0    |\n",
            "|[0.0,0.706832959,1.0]|0    |\n",
            "|[1.0,0.885469892,1.0]|421  |\n",
            "|[0.0,0.478092156,1.0]|0    |\n",
            "|[1.0,0.443162419,1.0]|388  |\n",
            "|[1.0,0.79692311,1.0] |176  |\n",
            "|[0.0,0.105268243,1.0]|0    |\n",
            "+---------------------+-----+\n",
            "only showing top 10 rows\n",
            "\n"
          ]
        }
      ]
    },
    {
      "cell_type": "code",
      "source": [
        "# Split into training and test sets in a 70:30 ratio\n",
        "data_train, data_test = data_assembled.randomSplit([0.7, 0.3], seed=17)\n",
        "\n",
        "# Check that training set has around 80% of records\n",
        "training_ratio = data_train.count() / data_assembled.count()\n",
        "print(training_ratio)"
      ],
      "metadata": {
        "colab": {
          "base_uri": "https://localhost:8080/"
        },
        "id": "y2vFXMw6gRXZ",
        "outputId": "3f5ced84-d21e-4963-fa09-dfcba1b6bbf0"
      },
      "execution_count": null,
      "outputs": [
        {
          "output_type": "stream",
          "name": "stdout",
          "text": [
            "0.6330275229357798\n"
          ]
        }
      ]
    },
    {
      "cell_type": "code",
      "source": [
        "from pyspark.ml.classification import DecisionTreeClassifier\n",
        "\n"
      ],
      "metadata": {
        "id": "Csbv7yw5ghtg"
      },
      "execution_count": null,
      "outputs": []
    },
    {
      "cell_type": "code",
      "source": [
        "data_train.head()"
      ],
      "metadata": {
        "colab": {
          "base_uri": "https://localhost:8080/"
        },
        "id": "oAKU6Qsii0TU",
        "outputId": "672cf793-5ee8-4809-90e1-e05f63e9b008"
      },
      "execution_count": null,
      "outputs": [
        {
          "output_type": "execute_result",
          "data": {
            "text/plain": [
              "Row(teamId=1, name='Rlwjub4jqE', strength=0.105268243, currentLevel=1, price=0, strengthCategory='Weak', label=0, strengthCategory_idx=0.0, features=DenseVector([0.0, 0.1053, 1.0]))"
            ]
          },
          "metadata": {},
          "execution_count": 136
        }
      ]
    },
    {
      "cell_type": "code",
      "source": [
        "# Create a classifier object and fit to the training data\n",
        "tree = DecisionTreeClassifier()\n",
        "tree_model = tree.fit(data_train)\n"
      ],
      "metadata": {
        "id": "zyp4yPFvgsnj"
      },
      "execution_count": null,
      "outputs": []
    },
    {
      "cell_type": "code",
      "source": [
        "# Create predictions for the testing data and take a look at the predictions\n",
        "prediction = tree_model.transform(data_test)\n",
        "prediction.select('label', 'prediction', 'probability').show(5, False)"
      ],
      "metadata": {
        "colab": {
          "base_uri": "https://localhost:8080/"
        },
        "id": "Q2IWnZgqs2Y9",
        "outputId": "d6358aba-310f-439a-d56e-ded6ca95b555"
      },
      "execution_count": null,
      "outputs": [
        {
          "output_type": "stream",
          "name": "stdout",
          "text": [
            "+-----+----------+-----------+\n",
            "|label|prediction|probability|\n",
            "+-----+----------+-----------+\n",
            "|0    |0.0       |[1.0,0.0]  |\n",
            "|0    |0.0       |[1.0,0.0]  |\n",
            "|1    |1.0       |[0.0,1.0]  |\n",
            "|0    |0.0       |[1.0,0.0]  |\n",
            "|1    |1.0       |[0.0,1.0]  |\n",
            "+-----+----------+-----------+\n",
            "only showing top 5 rows\n",
            "\n"
          ]
        }
      ]
    },
    {
      "cell_type": "code",
      "source": [
        "# Create a confusion matrix\n",
        "prediction.groupBy('label', 'prediction').count().show()\n",
        "\n",
        "# Calculate the elements of the confusion matrix\n",
        "TN = prediction.filter('prediction = 0 AND label = prediction').count()\n",
        "TP = prediction.filter('prediction = 1 AND label = prediction').count()\n",
        "FN = prediction.filter('prediction = 0 AND label = 1').count()\n",
        "FP = prediction.filter('prediction = 1 AND label = 0').count()\n",
        "\n"
      ],
      "metadata": {
        "colab": {
          "base_uri": "https://localhost:8080/"
        },
        "id": "FY6Ce74uKaNF",
        "outputId": "dccd4593-e553-46a6-a7e7-aeca2836b030"
      },
      "execution_count": null,
      "outputs": [
        {
          "output_type": "stream",
          "name": "stdout",
          "text": [
            "+-----+----------+-----+\n",
            "|label|prediction|count|\n",
            "+-----+----------+-----+\n",
            "|    1|       0.0|    2|\n",
            "|    0|       0.0|   23|\n",
            "|    1|       1.0|   15|\n",
            "+-----+----------+-----+\n",
            "\n"
          ]
        }
      ]
    },
    {
      "cell_type": "code",
      "source": [
        "# Accuracy measures the proportion of correct predictions\n",
        "accuracy = (TN + TP) / (TN + TP + FN + FP)\n",
        "print(accuracy)"
      ],
      "metadata": {
        "colab": {
          "base_uri": "https://localhost:8080/"
        },
        "id": "ig9VWvZkSadW",
        "outputId": "4c42a067-7350-4a2a-9b4b-d6e99e1d99d1"
      },
      "execution_count": null,
      "outputs": [
        {
          "output_type": "stream",
          "name": "stdout",
          "text": [
            "0.95\n"
          ]
        }
      ]
    },
    {
      "cell_type": "code",
      "source": [
        "import pyspark.sql.functions as F\n",
        "from pyspark.ml.feature import VectorAssembler\n",
        "from pyspark.ml.classification import DecisionTreeClassifier\n",
        "from pyspark.mllib.evaluation import MulticlassMetrics\n",
        "from pyspark.sql.types import FloatType\n",
        "#important: need to cast to float type, and order by prediction, else it won't work\n",
        "preds_and_labels = prediction.select(['prediction','label']).withColumn('label', F.col('label').cast(FloatType())).orderBy('prediction')\n",
        "#select only prediction and label columns\n",
        "preds_and_labels = preds_and_labels.select(['prediction','label'])\n",
        "metrics = MulticlassMetrics(preds_and_labels.rdd.map(tuple))\n",
        "cf_matrix = metrics.confusionMatrix().toArray()\n",
        "import seaborn as sns\n",
        "ax = sns.heatmap(cf_matrix, annot=True, cmap='Blues')\n",
        "ax.set_title('Seaborn Confusion Matrix with labels\\n\\n');\n",
        "ax.set_xlabel('\\nPredicted Values')\n",
        "ax.set_ylabel('Actual Values ');\n",
        "## Ticket labels - List must be in alphabetical order\n",
        "ax.xaxis.set_ticklabels(['Negative','Positive'])\n",
        "ax.yaxis.set_ticklabels(['False','True'])\n",
        "## Display the visualization of the Confusion Matrix.\n",
        "plt.show()"
      ],
      "metadata": {
        "colab": {
          "base_uri": "https://localhost:8080/",
          "height": 392
        },
        "id": "XQrB7z26QI0N",
        "outputId": "a2da7578-b94c-448a-cc04-b12d3bd76e6b"
      },
      "execution_count": null,
      "outputs": [
        {
          "output_type": "stream",
          "name": "stderr",
          "text": [
            "/content/spark-3.2.1-bin-hadoop2.7/python/pyspark/sql/context.py:127: FutureWarning: Deprecated in 3.0.0. Use SparkSession.builder.getOrCreate() instead.\n",
            "  FutureWarning\n"
          ]
        },
        {
          "output_type": "display_data",
          "data": {
            "text/plain": [
              "<Figure size 432x288 with 2 Axes>"
            ],
            "image/png": "[encoded data removed]"
          },
          "metadata": {
            "needs_background": "light"
          }
        }
      ]
    }
  ]
}